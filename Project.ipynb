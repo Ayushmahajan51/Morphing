{
 "cells": [
  {
   "cell_type": "code",
   "execution_count": 1339,
   "metadata": {},
   "outputs": [],
   "source": [
    "#importing the required directories\n",
    "\n",
    "import numpy as np\n",
    "import cv2\n",
    "import random\n",
    "import matplotlib.pyplot as plt\n",
    "import glob\n",
    "import os\n",
    "\n",
    "\n",
    "%matplotlib inline\n",
    "import sys"
   ]
  },
  {
   "cell_type": "code",
   "execution_count": 1340,
   "metadata": {},
   "outputs": [],
   "source": [
    "#Helper function to check whether the given point lies within a rectangle or not,it is used in order to generate delaunay traingle\n",
    "def rect_contains(rect, point) :\n",
    "    if point[0] < rect[0] :\n",
    "        return False\n",
    "    elif point[1] < rect[1] :\n",
    "        return False\n",
    "    elif point[0] > rect[2] :\n",
    "        return False\n",
    "    elif point[1] > rect[3] :\n",
    "        return False\n",
    "    return True\n",
    "\n"
   ]
  },
  {
   "cell_type": "code",
   "execution_count": 1341,
   "metadata": {},
   "outputs": [],
   "source": [
    "l=[];\n",
    "\n",
    "#This function is used to generate the delaunay traingles for the selected control points\n",
    "\n",
    "def draw_delaunay(img, subdiv, delaunay_color, dictionary) :\n",
    "    \n",
    "    triangleList = subdiv.getTriangleList();\n",
    "    size = img.shape\n",
    "    r = (0, 0, size[1], size[0])\n",
    "\n",
    "    for t in triangleList :\n",
    "        \n",
    "        pt1 = (int(t[0]), int(t[1]))\n",
    "        pt2 = (int(t[2]), int(t[3]))\n",
    "        pt3 = (int(t[4]), int(t[5]))\n",
    "        \n",
    "        if rect_contains(r, pt1) and rect_contains(r, pt2) and rect_contains(r, pt3) :\n",
    "            \n",
    "            cv2.line(img, pt1, pt2, delaunay_color, 2)\n",
    "            cv2.line(img, pt2, pt3, delaunay_color, 2)\n",
    "            cv2.line(img, pt3, pt1, delaunay_color, 2)\n",
    "            l.append((dictionary[pt1],dictionary[pt2],dictionary[pt3]))\n"
   ]
  },
  {
   "cell_type": "code",
   "execution_count": 1342,
   "metadata": {},
   "outputs": [],
   "source": [
    "#Input image 1\n",
    "\n",
    "img1=cv2.imread('trump.jpg')\n",
    "img1_cpy=img1.copy()\n",
    "# img1= cv2.cvtColor(img1, cv2.COLOR_BGR2RGB)\n",
    "# print(img1.shape)\n",
    "# cv2.imshow(\"trump\",img1)\n",
    "# cv2.waitKey(0)\n",
    "# cv2.destroyAllWindows()"
   ]
  },
  {
   "cell_type": "code",
   "execution_count": 1343,
   "metadata": {},
   "outputs": [],
   "source": [
    "#Input image 2\n",
    "\n",
    "img2=cv2.imread('clinton.jpg')\n",
    "# img2= cv2.cvtColor(img2, cv2.COLOR_BGR2RGB)\n",
    "img2_cpy=img2.copy()\n",
    "# print(img2.shape)\n",
    "# cv2.imshow(\"clinton\",img2)\n",
    "# cv2.waitKey(0)\n",
    "# cv2.destroyAllWindows()"
   ]
  },
  {
   "cell_type": "code",
   "execution_count": 1344,
   "metadata": {},
   "outputs": [],
   "source": [
    "events = [i for i in dir(cv2) if 'EVENT' in i]\n",
    "points1=[];"
   ]
  },
  {
   "cell_type": "code",
   "execution_count": 1345,
   "metadata": {},
   "outputs": [],
   "source": [
    "#Mouse handler function with the defined task for LEFT-CLICK eevent,it helps us to select the desired control points on the image\n",
    "\n",
    "def click_event(event, x, y, flags, param):\n",
    "    if event == cv2.EVENT_LBUTTONDOWN:\n",
    "#         print(x,\",\",y)\n",
    "        points1.append((int(x),int(y)))\n",
    "        font = cv2.FONT_HERSHEY_SIMPLEX\n",
    "        strXY =\".\"\n",
    "        cv2.putText(img1_cpy, strXY, (x,y), font, 0.5, (255,255,0), 2)\n",
    "        cv2.imshow(\"image\", img1_cpy)"
   ]
  },
  {
   "cell_type": "code",
   "execution_count": 1346,
   "metadata": {},
   "outputs": [],
   "source": [
    "#selecting control points in image 1 using mouse handler ans storing the co ordinates in a list \n",
    "\n",
    "points1.clear()\n",
    "cv2.imshow(\"image\", img1_cpy)\n",
    "cv2.setMouseCallback(\"image\", click_event)\n",
    "\n",
    "cv2.waitKey(0)\n",
    "cv2.destroyAllWindows()"
   ]
  },
  {
   "cell_type": "code",
   "execution_count": 1347,
   "metadata": {},
   "outputs": [],
   "source": [
    "events = [i for i in dir(cv2) if 'EVENT' in i]\n",
    "points2=[]"
   ]
  },
  {
   "cell_type": "code",
   "execution_count": 1348,
   "metadata": {},
   "outputs": [],
   "source": [
    "#Mouse handler function with the defined task for LEFT-CLICK eevent,it helps us to select the desired control points on the image\n",
    "\n",
    "def click_event(event, x, y, flags, param):\n",
    "    if event == cv2.EVENT_LBUTTONDOWN:\n",
    "#         print(x,\",\",y)\n",
    "        points2.append((int(x),int(y)))\n",
    "        font = cv2.FONT_HERSHEY_SIMPLEX\n",
    "        strXY =\".\"\n",
    "        cv2.putText(img2_cpy, strXY, (x,y), font, 0.5, (255,255,0), 2)\n",
    "        cv2.imshow(\"image2\", img2_cpy)"
   ]
  },
  {
   "cell_type": "code",
   "execution_count": 1349,
   "metadata": {},
   "outputs": [],
   "source": [
    "#selecting control points in image 2 using mouse handler ans storing the co ordinates in a list\n",
    "\n",
    "points2.clear()\n",
    "cv2.imshow(\"image2\", img2_cpy)\n",
    "cv2.setMouseCallback(\"image2\", click_event)\n",
    "\n",
    "cv2.waitKey(0)\n",
    "cv2.destroyAllWindows()"
   ]
  },
  {
   "cell_type": "code",
   "execution_count": 1350,
   "metadata": {
    "scrolled": true
   },
   "outputs": [],
   "source": [
    "#Generating the Delaunany triangulation for the source and destination image using the control points selected\n",
    "# print(len(points1))\n",
    "# print(len(points2))\n",
    "\n",
    "size = img1_pts.shape\n",
    "\n",
    "#appending the corner points\n",
    "points1.append((0,0))\n",
    "points2.append((0,0))\n",
    "\n",
    "points1.append((int(size[1]-1),int(size[0]-1)))\n",
    "points2.append((int(size[1]-1),int(size[0]-1)))\n",
    "\n",
    "points1.append((0,int(size[0]/2)))\n",
    "points2.append((0,int(size[0]/2)))\n",
    "\n",
    "points1.append((int(size[1]-1),int(size[0]/2)))\n",
    "points2.append((int(size[1]-1),int(size[0]/2)))\n",
    "\n",
    "points1.append((int(size[1]/2),0))\n",
    "points2.append((int(size[1]/2),0))\n",
    "\n",
    "points1.append((int(size[1]/2),int(size[0]-1)))\n",
    "points2.append((int(size[1]/2),int(size[0]-1)))\n",
    "\n",
    "points1.append((int(size[1]-1),0))\n",
    "points2.append((int(size[1]-1),0))\n",
    "\n",
    "points1.append((0,int(size[0]-1)))\n",
    "points2.append((0,int(size[0]-1)))\n",
    "\n",
    "# print(points1)\n",
    "\n",
    "dictionary1={}\n",
    "dictionary2={}\n",
    "\n",
    "img1_tr=img1.copy()\n",
    "img2_tr=img2.copy()\n",
    "\n",
    "for  i in range(len(points1)):\n",
    "    dictionary1[(points1[i][0],points1[i][1])]=i\n",
    "\n",
    "for  i in range(len(points2)):\n",
    "    dictionary2[(points2[i][0],points2[i][1])]=i\n",
    "    \n",
    "    \n",
    "rect = (0, 0, size[1], size[0])\n",
    "subdiv1 = cv2.Subdiv2D(rect)\n",
    "subdiv2 = cv2.Subdiv2D(rect)\n",
    "for p in points1 :\n",
    "#     print(p)\n",
    "    subdiv1.insert(p)\n",
    "    \n",
    "for p in points2 :\n",
    "#     print(p)\n",
    "    subdiv2.insert(p)\n",
    "\n",
    "t_index1=[]\n",
    "t_index2=[]\n",
    "    \n",
    "draw_delaunay( img1_tr, subdiv1, (255, 255, 255),dictionary1);\n",
    "draw_delaunay( img2_tr, subdiv2, (255, 255, 255),dictionary2);"
   ]
  },
  {
   "cell_type": "code",
   "execution_count": 1351,
   "metadata": {},
   "outputs": [
    {
     "data": {
      "text/plain": [
       "True"
      ]
     },
     "execution_count": 1351,
     "metadata": {},
     "output_type": "execute_result"
    }
   ],
   "source": [
    "cv2.imshow(\"trump_traingle\",img1_tr)\n",
    "cv2.waitKey(0)\n",
    "cv2.destroyAllWindows()\n",
    "\n",
    "cv2.imwrite(\"Donald_Trump_triangulation.jpeg\",img1_tr)"
   ]
  },
  {
   "cell_type": "code",
   "execution_count": 1352,
   "metadata": {},
   "outputs": [
    {
     "data": {
      "text/plain": [
       "True"
      ]
     },
     "execution_count": 1352,
     "metadata": {},
     "output_type": "execute_result"
    }
   ],
   "source": [
    "cv2.imshow(\"clinton_traingle\",img2_tr)\n",
    "cv2.waitKey(0)\n",
    "cv2.destroyAllWindows()\n",
    "\n",
    "cv2.imwrite(\"Hilaary_Clinton_traingulation.jpeg\",img2_tr)"
   ]
  },
  {
   "cell_type": "code",
   "execution_count": 1363,
   "metadata": {},
   "outputs": [],
   "source": [
    "def applyAffineTransform(src, srcTri, dstTri, size) :\n",
    "    \n",
    "    # Given a pair of triangles, find the affine transform.\n",
    "    warpMat = cv2.getAffineTransform( np.float32(srcTri), np.float32(dstTri) )\n",
    "    \n",
    "    # Apply the Affine Transform just found to the src image\n",
    "    dst = cv2.warpAffine( src, warpMat, (size[0], size[1]), None, flags=cv2.INTER_LINEAR, borderMode=cv2.BORDER_REFLECT_101 )\n",
    "\n",
    "    return dst"
   ]
  },
  {
   "cell_type": "code",
   "execution_count": 1364,
   "metadata": {},
   "outputs": [],
   "source": [
    "def morphTriangle(img1, img2, img, t1, t2, t, alpha) :\n",
    "\n",
    "    # Find bounding rectangle for each triangle\n",
    "    r1 = cv2.boundingRect(np.float32([t1]))\n",
    "    r2 = cv2.boundingRect(np.float32([t2]))\n",
    "    r = cv2.boundingRect(np.float32([t]))\n",
    "\n",
    "\n",
    "    # Offset points by left top corner of the respective rectangles\n",
    "    t1Rect = []\n",
    "    t2Rect = []\n",
    "    tRect = []\n",
    "\n",
    "\n",
    "    for i in range(0, 3):\n",
    "        tRect.append(((t[i][0] - r[0]),(t[i][1] - r[1])))\n",
    "        t1Rect.append(((t1[i][0] - r1[0]),(t1[i][1] - r1[1])))\n",
    "        t2Rect.append(((t2[i][0] - r2[0]),(t2[i][1] - r2[1])))\n",
    "\n",
    "\n",
    "    # Get mask by filling triangle\n",
    "    mask = np.zeros((r[3], r[2], 3), dtype = np.float32)\n",
    "    cv2.fillConvexPoly(mask, np.int32(tRect), (1.0, 1.0, 1.0), 16, 0);\n",
    "\n",
    "    # Apply warpImage to small rectangular patches\n",
    "    img1Rect = img1[r1[1]:r1[1] + r1[3], r1[0]:r1[0] + r1[2]]\n",
    "    img2Rect = img2[r2[1]:r2[1] + r2[3], r2[0]:r2[0] + r2[2]]\n",
    "\n",
    "    size = (r[2], r[3])\n",
    "    warpImage1 = applyAffineTransform(img1Rect, t1Rect, tRect, size)\n",
    "    warpImage2 = applyAffineTransform(img2Rect, t2Rect, tRect, size)\n",
    "\n",
    "    # Alpha blend rectangular patches\n",
    "    imgRect = (1.0 - alpha) * warpImage1 + alpha * warpImage2\n",
    "\n",
    "    # Copy triangular region of the rectangular patch to the output image\n",
    "    img[r[1]:r[1]+r[3], r[0]:r[0]+r[2]] = img[r[1]:r[1]+r[3], r[0]:r[0]+r[2]] * ( 1 - mask ) + imgRect * mask"
   ]
  },
  {
   "cell_type": "code",
   "execution_count": 1365,
   "metadata": {},
   "outputs": [],
   "source": [
    "alpha = np.array([0.0, 0.05, 0.10, 0.15, 0.20, 0.25, 0.30, 0.35, 0.40, 0.45,0.50,0.55,0.60,0.65,0.70,0.75,0.80,0.85,0.90,0.95,1.00])\n",
    "\n",
    "# for i in range(0, len(alpha)):\n",
    "#     print(alpha[i])\n",
    "    \n",
    "img_array = []"
   ]
  },
  {
   "cell_type": "code",
   "execution_count": 1366,
   "metadata": {},
   "outputs": [],
   "source": [
    "img_array.clear()\n",
    "\n",
    "for k in range(0, len(alpha)):\n",
    "    \n",
    "    itr_points=[]\n",
    "    #Obtaining control points  for the intermediate frame \n",
    "    for i in range(0, len(points1)):\n",
    "        x = ( 1 - alpha[k] ) * points1[i][0] + alpha[k] * points2[i][0]\n",
    "        y = ( 1 - alpha[k] ) * points1[i][1] + alpha[k] * points2[i][1]\n",
    "        itr_points.append((x,y))    \n",
    "    \n",
    "    imgMorph = np.zeros(img1.shape, dtype = img1.dtype)\n",
    "\n",
    "    for i in range(len(l)):\n",
    "\n",
    "        x = int(l[i][0])\n",
    "        y = int(l[i][1])\n",
    "        z = int(l[i][2])\n",
    "\n",
    "        t1 = [points1[x], points1[y], points1[z]]\n",
    "        t2 = [points2[x], points2[y], points2[z]]\n",
    "        t = [ itr_points[x], itr_points[y], itr_points[z] ]\n",
    "\n",
    "        # Morph one triangle at a time.\n",
    "        morphTriangle(img1, img2, imgMorph, t1, t2, t, alpha[k])\n",
    "\n",
    "    img_array.append(imgMorph)"
   ]
  },
  {
   "cell_type": "code",
   "execution_count": 1367,
   "metadata": {},
   "outputs": [],
   "source": [
    "for i in range(0, len(img_array)):\n",
    "    \n",
    "    label=\"Morph_\"+ str(i+1)+\".jpeg\"\n",
    "    cv2.imwrite(label,img_array[i])"
   ]
  },
  {
   "cell_type": "code",
   "execution_count": 1368,
   "metadata": {},
   "outputs": [],
   "source": [
    "video_name = 'morphing.avi' \n",
    "height,width,layers=img_array[0].shape\n",
    "\n",
    "video = cv2.VideoWriter(video_name, 0, 1, (width, height))  \n",
    "\n",
    "for i in range(0, len(img_array)):\n",
    "    video.write(img_array[i])  \n",
    "       \n",
    "cv2.destroyAllWindows()  \n",
    "video.release()"
   ]
  },
  {
   "cell_type": "code",
   "execution_count": null,
   "metadata": {},
   "outputs": [],
   "source": []
  },
  {
   "cell_type": "code",
   "execution_count": null,
   "metadata": {},
   "outputs": [],
   "source": []
  }
 ],
 "metadata": {
  "kernelspec": {
   "display_name": "Python 3",
   "language": "python",
   "name": "python3"
  },
  "language_info": {
   "codemirror_mode": {
    "name": "ipython",
    "version": 3
   },
   "file_extension": ".py",
   "mimetype": "text/x-python",
   "name": "python",
   "nbconvert_exporter": "python",
   "pygments_lexer": "ipython3",
   "version": "3.7.4"
  }
 },
 "nbformat": 4,
 "nbformat_minor": 2
}
